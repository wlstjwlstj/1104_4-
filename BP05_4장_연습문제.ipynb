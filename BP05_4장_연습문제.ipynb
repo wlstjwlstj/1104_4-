{
  "nbformat": 4,
  "nbformat_minor": 0,
  "metadata": {
    "colab": {
      "provenance": [],
      "authorship_tag": "ABX9TyORIUP9DjRWsLWq8R+u2Zr5",
      "include_colab_link": true
    },
    "kernelspec": {
      "name": "python3",
      "display_name": "Python 3"
    },
    "language_info": {
      "name": "python"
    }
  },
  "cells": [
    {
      "cell_type": "markdown",
      "metadata": {
        "id": "view-in-github",
        "colab_type": "text"
      },
      "source": [
        "<a href=\"https://colab.research.google.com/github/wlstjwlstj/1104_4-/blob/main/BP05_4%EC%9E%A5_%EC%97%B0%EC%8A%B5%EB%AC%B8%EC%A0%9C.ipynb\" target=\"_parent\"><img src=\"https://colab.research.google.com/assets/colab-badge.svg\" alt=\"Open In Colab\"/></a>"
      ]
    },
    {
      "cell_type": "markdown",
      "source": [
        "1. 왜 다음과 같은 수식이 오류를 발생시키는가? 올바르게 수정하라."
      ],
      "metadata": {
        "id": "PoZi16KwcNPZ"
      }
    },
    {
      "cell_type": "code",
      "source": [
        "print(\"나는\",str(12)+\"개의 사과를 먹었다.\")"
      ],
      "metadata": {
        "colab": {
          "base_uri": "https://localhost:8080/"
        },
        "id": "H-JdUHz6cQhp",
        "outputId": "d467b78e-a504-48a6-b965-b857c3ea5b8f"
      },
      "execution_count": 1,
      "outputs": [
        {
          "output_type": "stream",
          "name": "stdout",
          "text": [
            "나는 12개의 사과를 먹었다.\n"
          ]
        }
      ]
    },
    {
      "cell_type": "markdown",
      "source": [
        "2. 다음과 같은 수식을 계산하면 결과는 무엇인가?\n"
      ],
      "metadata": {
        "id": "-eAbA4FQcVEZ"
      }
    },
    {
      "cell_type": "code",
      "source": [
        "print(\"apple\"+ \"grape\")  \n",
        "print(\"apple\"*3)"
      ],
      "metadata": {
        "colab": {
          "base_uri": "https://localhost:8080/"
        },
        "id": "xMOumFuScXmQ",
        "outputId": "0bdee218-e64e-4a28-fbac-1f54a9b1694c"
      },
      "execution_count": 2,
      "outputs": [
        {
          "output_type": "stream",
          "name": "stdout",
          "text": [
            "applegrape\n",
            "appleappleapple\n"
          ]
        }
      ]
    },
    {
      "cell_type": "markdown",
      "source": [
        "3. 다음과 같이 사용자가 입력한 문자열 중에서 처음 2글자와 마지막 2글자를 추출한 후에 이들을 합쳐서 출력해보자."
      ],
      "metadata": {
        "id": "G2ymQGDjceH6"
      }
    },
    {
      "cell_type": "code",
      "source": [
        "str=input(\"문자열을 입력하시오:\")\n",
        "print(str[0:2]+str[4:6])"
      ],
      "metadata": {
        "colab": {
          "base_uri": "https://localhost:8080/"
        },
        "id": "QCNunNJLcgeb",
        "outputId": "f7b409a0-53a1-4851-a1b9-5d2b29f07834"
      },
      "execution_count": 8,
      "outputs": [
        {
          "output_type": "stream",
          "name": "stdout",
          "text": [
            "문자열을 입력하시오:python\n",
            "pyon\n"
          ]
        }
      ]
    },
    {
      "cell_type": "markdown",
      "source": [
        "4. 다음과 같이 사용자가 입력한 문자열 뒤에 항상 \"하는 중\"을 붙이는 프로그램을 작성해보자."
      ],
      "metadata": {
        "id": "EVhAoOrDcmZL"
      }
    },
    {
      "cell_type": "code",
      "source": [
        "str=input(\"문자열을 입력하시오:\")\n",
        "s=str+\"하는 중\"\n",
        "print(s)"
      ],
      "metadata": {
        "colab": {
          "base_uri": "https://localhost:8080/"
        },
        "id": "h5cuYtBBcqoj",
        "outputId": "81e38ffe-4b4f-4cbb-9e13-5743a4fe6a39"
      },
      "execution_count": 4,
      "outputs": [
        {
          "output_type": "stream",
          "name": "stdout",
          "text": [
            "문자열을 입력하시오:청소\n",
            "청소하는 중\n"
          ]
        }
      ]
    },
    {
      "cell_type": "markdown",
      "source": [
        "5. 사용자가 입력한 기호 안에 문자열을 삽입하려면 어떻게 해야 하는가? 기호는 문자 2개로 이루어있다고 가정한다."
      ],
      "metadata": {
        "id": "NtQvcOBkcx-C"
      }
    },
    {
      "cell_type": "code",
      "source": [
        "s=input(\"기호를 입력하시오:\")\n",
        "a=s[0:1]  \n",
        "b=s[-1:]  \n",
        "c=input(\"중간에 삽입할 문자열을 입력하시오:\")\n",
        "print(a+c+b) "
      ],
      "metadata": {
        "colab": {
          "base_uri": "https://localhost:8080/"
        },
        "id": "8iAJ8hWec0-i",
        "outputId": "869761db-7f30-4151-b302-575ca31109ae"
      },
      "execution_count": 5,
      "outputs": [
        {
          "output_type": "stream",
          "name": "stdout",
          "text": [
            "기호를 입력하시오:[]\n",
            "중간에 삽입할 문자열을 입력하시오:python\n",
            "[python]\n"
          ]
        }
      ]
    },
    {
      "cell_type": "markdown",
      "source": [
        "6. 4개의 숫자가 들어있는 리스트가 있다. 리스트 안의 숫자들을 꺼내서 합계를 계산하여 출력하는 프로그램을 작성하라. 반복문은 사용하지 않는다. 리스트의 길이는 항상 4라고 가정한다."
      ],
      "metadata": {
        "id": "scCaf7YndF3S"
      }
    },
    {
      "cell_type": "code",
      "source": [
        "list=[1,2,3,4]\n",
        "print(\"리스트=\", list)\n",
        "sum=list[0]+list[1]+list[2]+list[3]  \n",
        "print(\"리스트 숫자들의 합=\", sum)"
      ],
      "metadata": {
        "colab": {
          "base_uri": "https://localhost:8080/"
        },
        "id": "0Wl6Di9RdJjk",
        "outputId": "82059d09-7b71-4e2b-9ce7-f699d14aab99"
      },
      "execution_count": 6,
      "outputs": [
        {
          "output_type": "stream",
          "name": "stdout",
          "text": [
            "리스트= [1, 2, 3, 4]\n",
            "리스트 숫자들의 합= 10\n"
          ]
        }
      ]
    },
    {
      "cell_type": "markdown",
      "source": [
        "7. 사용자가 입력하는 3가지 색상을 리스트에 저장하였다가 하나씩 꺼내서 그 색상으로 채워진 원을 그리는 프로그램을 작성해보자. 반복문은 사용하지 않는다. 채워진 원을 그리려면 다음과 같은 문장들을 사용한다."
      ],
      "metadata": {
        "id": "SBkScW7ndPZ9"
      }
    },
    {
      "cell_type": "code",
      "source": [
        "list=[]  #리스트 생성\n",
        "list.append(input(\"색상 #1을 입력하시오: \"))  #첫번째 색사 리스트에 저장\n",
        "list.append(input(\"색상 #2를 입력하시오: \"))  #두번째 색사 리스트에 저장\n",
        "list.append(input(\"색상 #3을 입력하시오: \"))  #세번째 색사 리스트에 저장\n",
        "\n",
        "import turtle\n",
        "t=turtle.Turtle()\n",
        "t.shape(\"turtle\")\n",
        "t.fillcolor(list[0])  #채워지는 색상 지정\n",
        "t.begin_fill()        #채우기 시작\n",
        "t.circle(50)          #채워진 원을 그림\n",
        "t.end_fill()          #채우기 종료\n",
        "t.up()                #펜 들음\n",
        "t.fd(100)             #앞으로 이동\n",
        "t.down()              #펜 놓음\n",
        "t.fillcolor(list[1])\n",
        "t.begin_fill()\n",
        "t.circle(50)\n",
        "t.end_fill()\n",
        "t.up()\n",
        "t.fd(100)\n",
        "t.down()\n",
        "t.fillcolor(list[2])\n",
        "t.begin_fill()\n",
        "t.circle(50)\n",
        "t.end_fill()"
      ],
      "metadata": {
        "id": "J6W2gGL5dSOE"
      },
      "execution_count": null,
      "outputs": []
    },
    {
      "cell_type": "markdown",
      "source": [
        "8. 사용자가 입력하는 3개의 좌표(x,y)를 리스트에 저장한다. 이들 좌표를 꺼내서 거북이를 이동하는 프로그램을 작성해보자."
      ],
      "metadata": {
        "id": "us_0hLELdYQl"
      }
    },
    {
      "cell_type": "code",
      "source": [
        "list=[]              #리스트 생성\n",
        "x1=int(input(\"x1: \"))#x1값 입력받음\n",
        "list.append(x1)      #리스트에 저장\n",
        "y1=int(input(\"y1: \"))#y1값 입력받음\n",
        "list.append(y1)      #리스트에 저장\n",
        "x2=int(input(\"x2: \"))#x2값 입력받음\n",
        "list.append(x2)      #리스트에 저장\n",
        "y2=int(input(\"y2: \"))#y2값 입력받음\n",
        "list.append(y2)      #리스트에 저장\n",
        "x3=int(input(\"x3: \"))#x3값 입력받음\n",
        "list.append(x3)      #리스트에 저장\n",
        "y3=int(input(\"y3: \"))#y3값 입력받음\n",
        "list.append(y3)      #리스트에 저장\n",
        "\n",
        "import turtle\n",
        "t=turtle.Turtle()\n",
        "t.shape(\"turtle\")\n",
        "t.goto(list[0],list[1]) #리스트의 첫번째와 두번째 항목에 저장된 값으로 이동\n",
        "t.goto(list[2],list[3]) #리스트의 세번째와 네번째 항목에 저장된 값으로 이동\n",
        "t.goto(list[4],list[5]) #리스트의 다섯번째와 여섯번째의 항목에 저장된 값으로 이동\n",
        "t._screen.exitonclick() #화면을 마우스로 클랙해야 종료되게 하는 부분\n"
      ],
      "metadata": {
        "id": "sakrU3EKe0uH"
      },
      "execution_count": null,
      "outputs": []
    }
  ]
}